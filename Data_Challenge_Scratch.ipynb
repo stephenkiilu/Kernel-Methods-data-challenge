{
  "cells": [
    {
      "cell_type": "markdown",
      "metadata": {
        "id": "view-in-github",
        "colab_type": "text"
      },
      "source": [
        "<a href=\"https://colab.research.google.com/github/stephenkiilu/Kernel-Methods-data-challenge/blob/main/Data_Challenge_Scratch.ipynb\" target=\"_parent\"><img src=\"https://colab.research.google.com/assets/colab-badge.svg\" alt=\"Open In Colab\"/></a>"
      ]
    },
    {
      "cell_type": "code",
      "execution_count": 127,
      "metadata": {
        "id": "6nkSBxMP-TOj"
      },
      "outputs": [],
      "source": [
        "import numpy as np\n",
        "import matplotlib.pyplot as plt\n",
        "from sklearn.decomposition import PCA"
      ]
    },
    {
      "cell_type": "markdown",
      "metadata": {
        "id": "zEByk5wz-TOl"
      },
      "source": [
        "## Loading data\n",
        "***"
      ]
    },
    {
      "cell_type": "markdown",
      "source": [
        ""
      ],
      "metadata": {
        "id": "3kNRPreS_SvY"
      }
    },
    {
      "cell_type": "code",
      "execution_count": 128,
      "metadata": {
        "id": "4QJSsfky-TOm"
      },
      "outputs": [],
      "source": [
        "X = np.loadtxt('Xtr.csv', skiprows=1, usecols=(1,), dtype=str, delimiter=',')\n",
        "y = np.loadtxt('Ytr.csv', skiprows=1, usecols=(1,), dtype=int, delimiter=',')\n",
        "X_test = np.loadtxt('Xte.csv', skiprows=1, usecols=(1,), dtype=str, delimiter=',')\n",
        "X_tr_vectors = np.loadtxt('Xtr_vectors.csv', skiprows=1, usecols=(1,), dtype=str, delimiter=',')\n",
        "X_te_vectors = np.loadtxt('Xte_vectors.csv', skiprows=1, usecols=(1,), dtype=str, delimiter=',')\n",
        "\n",
        "# X_full = np.hstack([X, X_test])\n",
        "y = 2*y - 1.\n"
      ]
    },
    {
      "cell_type": "code",
      "source": [
        ""
      ],
      "metadata": {
        "id": "fkyiepPpcT4z"
      },
      "execution_count": 128,
      "outputs": []
    },
    {
      "cell_type": "markdown",
      "metadata": {
        "id": "CfA7XUpm-TOm"
      },
      "source": [
        "## My data\n",
        "---"
      ]
    },
    {
      "cell_type": "code",
      "source": [
        ""
      ],
      "metadata": {
        "id": "cGs2p_GsFbk_"
      },
      "execution_count": 128,
      "outputs": []
    },
    {
      "cell_type": "code",
      "execution_count": 129,
      "metadata": {
        "id": "2jwfGi_S-TOn",
        "outputId": "4c63502a-f9f7-434a-f348-da9792ce8329",
        "colab": {
          "base_uri": "https://localhost:8080/"
        }
      },
      "outputs": [
        {
          "output_type": "stream",
          "name": "stdout",
          "text": [
            "(1000, 64)\n",
            "(2000, 64)\n",
            "(2000,)\n"
          ]
        }
      ],
      "source": [
        "x_test=(np.loadtxt('Xte_vectors.csv', skiprows=1, dtype=str, delimiter=',')[:,1:]).astype(float)# whole data in vectors\n",
        "x_train=(np.loadtxt('Xtr_vectors.csv', skiprows=1, dtype=str, delimiter=',')[:,1:]).astype(float)\n",
        "y # train set-labels\n",
        "print(x_test.shape)\n",
        "print(x_train.shape)\n",
        "print(y.shape)"
      ]
    },
    {
      "cell_type": "markdown",
      "source": [
        "## Split the data"
      ],
      "metadata": {
        "id": "l0kOa4HLrkwA"
      }
    },
    {
      "cell_type": "code",
      "source": [
        "from sklearn.model_selection import train_test_split\n",
        "X_train, X_test, y_train, y_test = train_test_split(x_train, y, test_size=0.25, random_state=42)\n",
        "print(X_train.shape)\n",
        "print(X_test.shape)\n",
        "print(y_train.shape)\n",
        "print(y_test.shape)"
      ],
      "metadata": {
        "id": "Kvr9VpUb5KVD",
        "colab": {
          "base_uri": "https://localhost:8080/"
        },
        "outputId": "f57e7a1b-64f7-46dc-b2c0-c42b0a19772a"
      },
      "execution_count": 130,
      "outputs": [
        {
          "output_type": "stream",
          "name": "stdout",
          "text": [
            "(1500, 64)\n",
            "(500, 64)\n",
            "(1500,)\n",
            "(500,)\n"
          ]
        }
      ]
    },
    {
      "cell_type": "markdown",
      "source": [
        "## PCA plot"
      ],
      "metadata": {
        "id": "2-Rg7os0scUF"
      }
    },
    {
      "cell_type": "code",
      "source": [
        "## training set\n",
        "pca = PCA(n_components=2)\n",
        "components = pca.fit_transform(X_train)\n",
        "plt.scatter(components[:,0],components[:,1],c=y_train)"
      ],
      "metadata": {
        "colab": {
          "base_uri": "https://localhost:8080/",
          "height": 284
        },
        "id": "qmhqGrC0sOs-",
        "outputId": "4b585476-6c9b-495b-b48e-16b02e993151"
      },
      "execution_count": 131,
      "outputs": [
        {
          "output_type": "execute_result",
          "data": {
            "text/plain": [
              "<matplotlib.collections.PathCollection at 0x7f5452c72910>"
            ]
          },
          "metadata": {},
          "execution_count": 131
        },
        {
          "output_type": "display_data",
          "data": {
            "text/plain": [
              "<Figure size 432x288 with 1 Axes>"
            ],
            "image/png": "[encoded data removed]"
          },
          "metadata": {
            "needs_background": "light"
          }
        }
      ]
    },
    {
      "cell_type": "code",
      "source": [
        "## test set\n",
        "pca = PCA(n_components=2)\n",
        "components_test = pca.fit_transform(X_test)\n",
        "plt.scatter(components_test[:,0],components_test[:,1],c=y_test)"
      ],
      "metadata": {
        "colab": {
          "base_uri": "https://localhost:8080/",
          "height": 283
        },
        "id": "j4ogG6xSMd0X",
        "outputId": "7d430ac3-5faf-43d2-adb2-addf695e4461"
      },
      "execution_count": 132,
      "outputs": [
        {
          "output_type": "execute_result",
          "data": {
            "text/plain": [
              "<matplotlib.collections.PathCollection at 0x7f5452c81a50>"
            ]
          },
          "metadata": {},
          "execution_count": 132
        },
        {
          "output_type": "display_data",
          "data": {
            "text/plain": [
              "<Figure size 432x288 with 1 Axes>"
            ],
            "image/png": "[encoded data removed]"
          },
          "metadata": {
            "needs_background": "light"
          }
        }
      ]
    },
    {
      "cell_type": "markdown",
      "source": [
        "## sklearn models (for comparison purposes and sanity checks)"
      ],
      "metadata": {
        "id": "IZbABuFHs7Hu"
      }
    },
    {
      "cell_type": "code",
      "source": [
        "from sklearn.model_selection import train_test_split\n",
        "import sklearn\n",
        "from sklearn import linear_model as lm\n",
        "from sklearn.linear_model import LogisticRegression\n",
        "from sklearn.metrics import accuracy_score, roc_auc_score\n",
        "from sklearn.svm import LinearSVC\n",
        "from sklearn.svm import SVC"
      ],
      "metadata": {
        "id": "Pr2F0kbWs3Z-"
      },
      "execution_count": 133,
      "outputs": []
    },
    {
      "cell_type": "code",
      "source": [
        "c1=10\n",
        "c2=10\n",
        "c3=10\n",
        "\n",
        "## logistic\n",
        "clf=LogisticRegression(random_state=0,C=c1)\n",
        "clf.fit(X_train,y_train)\n",
        "pred=clf.predict(X_test)\n",
        "acc_log=accuracy_score(y_test, pred)\n",
        "##SVM-linear\n",
        "\n",
        "clf1 = LinearSVC(penalty='l2', loss='hinge', C=c1)\n",
        "clf1.fit(X_train,y_train)\n",
        "pred1=clf1.predict(X_test)\n",
        "acc_svc=accuracy_score(y_test, pred1)\n",
        "\n",
        "clf3=SVC(C=10)\n",
        "clf3.fit(X_train,y_train)\n",
        "pred2=clf3.predict(X_test)\n",
        "acc_K_svc=accuracy_score(y_test, pred2)\n",
        "\n",
        "print(acc_log)\n",
        "print(acc_svc)\n",
        "print(acc_K_svc)"
      ],
      "metadata": {
        "colab": {
          "base_uri": "https://localhost:8080/"
        },
        "id": "igQFzO55vpJl",
        "outputId": "8561bf84-d42f-412b-df27-580c5cae9d7d"
      },
      "execution_count": 134,
      "outputs": [
        {
          "output_type": "stream",
          "name": "stdout",
          "text": [
            "0.956\n",
            "0.958\n",
            "0.966\n"
          ]
        },
        {
          "output_type": "stream",
          "name": "stderr",
          "text": [
            "/usr/local/lib/python3.7/dist-packages/sklearn/svm/_base.py:1208: ConvergenceWarning: Liblinear failed to converge, increase the number of iterations.\n",
            "  ConvergenceWarning,\n"
          ]
        }
      ]
    },
    {
      "cell_type": "markdown",
      "source": [
        "## Saving my predictions"
      ],
      "metadata": {
        "id": "n5-KtZrX1nQs"
      }
    },
    {
      "cell_type": "code",
      "source": [
        "prediction=np.where(pred2==1,1,0)\n",
        "y_save = np.vstack([1 + np.arange(len(prediction)), prediction]).T\n",
        "np.savetxt('sample_prediction.csv', y_save,\n",
        "           delimiter=',', header='Id,Covid', fmt='%i', comments='')"
      ],
      "metadata": {
        "id": "chAFGa6lm20Z"
      },
      "execution_count": 135,
      "outputs": []
    },
    {
      "cell_type": "markdown",
      "source": [
        "## Implementing our own code"
      ],
      "metadata": {
        "id": "Qt36xcss10xf"
      }
    },
    {
      "cell_type": "markdown",
      "source": [
        "## 1.Ridge logistic regression"
      ],
      "metadata": {
        "id": "_f5BB53dNVPi"
      }
    },
    {
      "cell_type": "markdown",
      "source": [
        "## Logistic Ridge Regression with Gradient Descent"
      ],
      "metadata": {
        "id": "jUYSU7GL3ZOM"
      }
    },
    {
      "cell_type": "code",
      "source": [
        "# Logistic Ridge Regression (LRR) with gradient descent (GD)\n",
        "def solveLRR_gradient(y, X, lam, h=0.01, max_iter=500, eps=1e-12):\n",
        "    '''\n",
        "    lam: Regularization parameter\n",
        "    max_iter: Max number of iterations of gradient descent\n",
        "    eps: Tolerance for stopping criteria \n",
        "    '''\n",
        "    n, p = X.shape\n",
        "    assert (len(y) == n)\n",
        "    \n",
        "    beta_old = np.zeros(p)\n",
        "    \n",
        "    def sigmoid(x):\n",
        "        return 1 / (1 + np.exp(-x))\n",
        "            \n",
        "    for i in range(max_iter):\n",
        "        # yi beta^T xi\n",
        "        f = (X * y[:, None]).dot(beta_old)\n",
        "        gradient = - 1 / n * (y * sigmoid(-f)).dot(X)\n",
        "        gradient += 2 * lam * beta_old\n",
        "        \n",
        "        # Step\n",
        "        beta_new = beta_old - h * gradient\n",
        "        \n",
        "        if np.sum((beta_new-beta_old)**2) < eps:\n",
        "            break\n",
        "        beta_old = beta_new\n",
        "    #         \n",
        "    return (beta_new)"
      ],
      "metadata": {
        "id": "vdqdWsyvthX2"
      },
      "execution_count": 136,
      "outputs": []
    },
    {
      "cell_type": "code",
      "source": [
        "lam =0.00001\n",
        "beta_gradient = solveLRR_gradient(y_train, X_train, lam, h=1, max_iter=10000)"
      ],
      "metadata": {
        "id": "TUfk7QAd3gGx"
      },
      "execution_count": 137,
      "outputs": []
    },
    {
      "cell_type": "code",
      "source": [
        "def sigmoid(x):\n",
        "        return 1 / (1 + np.exp(-x))\n",
        "probas_pred = sigmoid(X_test.dot(beta_gradient))\n",
        "\n",
        "y_pred = np.where(probas_pred > 0.5,1,-1) \n",
        "\n",
        "# print('Accuracy: {:.2%}'.format(accuracy_score(y_test, y_pred)))\n",
        "def accuracy(actual, predicted):\n",
        "\tcorrect = 0\n",
        "\tfor i in range(len(actual)):\n",
        "\t\tif actual[i] == predicted[i]:\n",
        "\t\t\tcorrect += 1\n",
        "\treturn correct / float(len(actual))"
      ],
      "metadata": {
        "id": "1Rjb7M7pKePc"
      },
      "execution_count": 138,
      "outputs": []
    },
    {
      "cell_type": "code",
      "source": [
        "print('The accuracy for logistic regression is: {:.2%}'.format(accuracy(y_test,y_pred)))"
      ],
      "metadata": {
        "colab": {
          "base_uri": "https://localhost:8080/"
        },
        "id": "bI60sS8c_KJA",
        "outputId": "6f71aee5-4581-40e3-a722-a7ffcc010a35"
      },
      "execution_count": 139,
      "outputs": [
        {
          "output_type": "stream",
          "name": "stdout",
          "text": [
            "The accuracy for logistic regression is: 95.80%\n"
          ]
        }
      ]
    },
    {
      "cell_type": "markdown",
      "source": [
        "##2. Kernel kernel SVM"
      ],
      "metadata": {
        "id": "OHKIUTErDDPq"
      }
    },
    {
      "cell_type": "markdown",
      "source": [
        "## Utilities"
      ],
      "metadata": {
        "id": "AYuVsT2MFoI1"
      }
    },
    {
      "cell_type": "code",
      "source": [
        "import cvxopt\n",
        "\n",
        "def cvxopt_qp(P, q, G, h, A, b):\n",
        "    P = .5 * (P + P.T)\n",
        "    cvx_matrices = [\n",
        "        cvxopt.matrix(M) if M is not None else None for M in [P, q, G, h, A, b] \n",
        "    ]\n",
        "    #cvxopt.solvers.options['show_progress'] = False\n",
        "    solution = cvxopt.solvers.qp(*cvx_matrices, options={'show_progress': False})\n",
        "    return np.array(solution['x']).flatten()\n",
        "\n",
        "solve_qp = cvxopt_qp"
      ],
      "metadata": {
        "id": "DBWVcDrTDR1a"
      },
      "execution_count": 140,
      "outputs": []
    },
    {
      "cell_type": "markdown",
      "source": [
        "***\n",
        "Example kernel implementations\n",
        "----\n",
        "***"
      ],
      "metadata": {
        "id": "nfbCoBfdFzS2"
      }
    },
    {
      "cell_type": "code",
      "source": [
        "def rbf_kernel(X1, X2, sigma=10):\n",
        "    '''\n",
        "    Returns the kernel matrix K(X1_i, X2_j): size (n1, n2)\n",
        "    where K is the RBF kernel with parameter sigma\n",
        "    \n",
        "    Input:\n",
        "    ------\n",
        "    X1: an (n1, p) matrix\n",
        "    X2: an (n2, p) matrix\n",
        "    sigma: float\n",
        "    '''\n",
        "    # For loop with rbf_kernel_element works but is slow in python\n",
        "    # Use matrix operations!\n",
        "    X2_norm = np.sum(X2 ** 2, axis = -1)\n",
        "    X1_norm = np.sum(X1 ** 2, axis = -1)\n",
        "    gamma = 1 / (2 * sigma ** 2)\n",
        "    K = np.exp(- gamma * (X1_norm[:, None] + X2_norm[None, :] - 2 * np.dot(X1, X2.T)))\n",
        "    return K\n",
        "\n",
        "def sigma_from_median(X):\n",
        "    '''\n",
        "    Returns the median of ||Xi-Xj||\n",
        "    \n",
        "    Input\n",
        "    -----\n",
        "    X: (n, p) matrix\n",
        "    '''\n",
        "    pairwise_diff = X[:, :, None] - X[:, :, None].T\n",
        "    pairwise_diff *= pairwise_diff\n",
        "    euclidean_dist = np.sqrt(pairwise_diff.sum(axis=1))\n",
        "    return np.median(euclidean_dist)"
      ],
      "metadata": {
        "id": "3f2kED5sFzAV"
      },
      "execution_count": 141,
      "outputs": []
    },
    {
      "cell_type": "code",
      "source": [
        "def linear_kernel(X1, X2):\n",
        "    '''\n",
        "    Returns the kernel matrix K(X1_i, X2_j): size (n1, n2)\n",
        "    where K is the linear kernel\n",
        "    \n",
        "    Input:\n",
        "    ------\n",
        "    X1: an (n1, p) matrix\n",
        "    X2: an (n2, p) matrix\n",
        "    '''\n",
        "    return X1@X2.T\n",
        "\n",
        "def polynomial_kernel(X1, X2, degree=2):\n",
        "    '''\n",
        "    Returns the kernel matrix K(X1_i, X2_j): size (n1, n2)\n",
        "    where K is the polynomial kernel of degree `degree`\n",
        "    \n",
        "    Input:\n",
        "    ------\n",
        "    X1: an (n1, p) matrix\n",
        "    X2: an (n2, p) matrix\n",
        "    '''\n",
        "    return (1+linear_kernel(X1,X2))**2"
      ],
      "metadata": {
        "id": "UKz6Br2BF949"
      },
      "execution_count": 142,
      "outputs": []
    },
    {
      "cell_type": "code",
      "source": [
        "# Prediction error\n",
        "def error(ypred, ytrue):\n",
        "    e = (ypred != ytrue).mean()\n",
        "    return e\n",
        "\n",
        "def add_column_ones(X):\n",
        "    n = X.shape[0]\n",
        "    return np.hstack([X, np.ones((n, 1))])\n",
        "\n",
        "# Visualization\n",
        "# References: https://scikit-learn.org/stable/auto_examples/svm/plot_iris.html\n",
        "def make_meshgrid(x, y, h=.02):\n",
        "    \"\"\"Create a mesh of points to plot in\n",
        "\n",
        "    Parameters\n",
        "    ----------\n",
        "    x: data to base x-axis meshgrid on\n",
        "    y: data to base y-axis meshgrid on\n",
        "    h: stepsize for meshgrid, optional\n",
        "\n",
        "    Returns\n",
        "    -------\n",
        "    xx, yy : ndarray\n",
        "    \"\"\"\n",
        "    x_min, x_max = x.min() - 1, x.max() + 1\n",
        "    y_min, y_max = y.min() - 1, y.max() + 1\n",
        "    xx, yy = np.meshgrid(np.arange(x_min, x_max, h),\n",
        "                         np.arange(y_min, y_max, h))\n",
        "    return xx, yy\n",
        "\n",
        "def plot_contours(classifier, xx, yy, add_intercept=False, **params):\n",
        "    \"\"\"Plot the decision boundaries for a classifier.\n",
        "    \n",
        "    Parameters\n",
        "    ----------\n",
        "    ax: matplotlib axes object\n",
        "    clf: a classifier\n",
        "    xx: meshgrid ndarray\n",
        "    yy: meshgrid ndarray\n",
        "    params: dictionary of params to pass to contourf, optional\n",
        "    \"\"\"\n",
        "    X = np.c_[xx.ravel(), yy.ravel()]\n",
        "    Z = classifier.predict(X)#, fit_intercept=add_intercept)\n",
        "    Z = Z.reshape(xx.shape)\n",
        "    out = plt.contourf(xx, yy, Z, **params)\n",
        "    return out\n",
        "\n",
        "def plot_decision_function(classifier, X_train, y_train, title='', add_intercept=False):\n",
        "    fig = plt.figure(figsize=(8,7))\n",
        "    X0, X1 = X_train[:, 0], X_train[:, 1]\n",
        "    xx, yy = make_meshgrid(X0, X1)\n",
        "    plot_contours(classifier, xx, yy, cmap=plt.cm.GnBu, alpha=0.5, add_intercept=add_intercept)\n",
        "    plt.scatter(X0, X1, c=y_train, cmap=plt.cm.GnBu, s=20, edgecolors='k')\n",
        "    plt.xlim(xx.min(), xx.max())\n",
        "    plt.ylim(yy.min(), yy.max())\n",
        "    plt.xlabel('$x_1$')\n",
        "    plt.ylabel('$x_2$')\n",
        "    plt.title(title)\n",
        "    plt.show()"
      ],
      "metadata": {
        "id": "XoeoIVuuZuDR"
      },
      "execution_count": 143,
      "outputs": []
    },
    {
      "cell_type": "markdown",
      "source": [
        "***\n",
        "# Kernel Methods\n",
        "***"
      ],
      "metadata": {
        "id": "98-iEwcZGFth"
      }
    },
    {
      "cell_type": "code",
      "source": [
        "class KernelMethodBase(object):\n",
        "    '''\n",
        "    Base class for kernel methods models\n",
        "    \n",
        "    Methods\n",
        "    ----\n",
        "    fit\n",
        "    predict\n",
        "    fit_K\n",
        "    predict_K\n",
        "    '''\n",
        "    kernels_ = {\n",
        "        'linear': linear_kernel,\n",
        "        'polynomial': polynomial_kernel,\n",
        "        'rbf': rbf_kernel,\n",
        "        # 'mismatch': mismatch_kernel,\n",
        "    }\n",
        "    def __init__(self, kernel='linear', **kwargs):\n",
        "        self.kernel_name = kernel\n",
        "        self.kernel_function_ = self.kernels_[kernel]\n",
        "        self.kernel_parameters = self.get_kernel_parameters(**kwargs)\n",
        "        self.fit_intercept_ = False\n",
        "        \n",
        "    def get_kernel_parameters(self, **kwargs):\n",
        "        params = {}\n",
        "        if self.kernel_name == 'rbf':\n",
        "            params['sigma'] = kwargs.get('sigma', 1.)\n",
        "        if self.kernel_name == 'polynomial':\n",
        "            params['degree'] = kwargs.get('degree', 2)\n",
        "        return params\n",
        "\n",
        "    def fit_K(self, K, y, **kwargs):\n",
        "        pass\n",
        "        \n",
        "    def decision_function_K(self, K):\n",
        "        pass\n",
        "    \n",
        "    def fit(self, X, y, fit_intercept=False, **kwargs):\n",
        "\n",
        "        if fit_intercept:\n",
        "            X = add_column_ones(X)\n",
        "            self.fit_intercept_ = True\n",
        "        self.X_train = X\n",
        "        self.y_train = y\n",
        "\n",
        "        K = self.kernel_function_(self.X_train, self.X_train, **self.kernel_parameters)\n",
        "\n",
        "        return self.fit_K(K, y, **kwargs)\n",
        "    \n",
        "    def decision_function(self, X):\n",
        "\n",
        "        if self.fit_intercept_:\n",
        "            X = add_column_ones(X)\n",
        "\n",
        "        K_x = self.kernel_function_(X, self.X_train, **self.kernel_parameters)\n",
        "\n",
        "        return self.decision_function_K(K_x)\n",
        "\n",
        "    def predict(self, X):\n",
        "        pass\n",
        "    \n",
        "    def predict_K(self, K):\n",
        "        pass"
      ],
      "metadata": {
        "id": "OIPll9e_GJ8Y"
      },
      "execution_count": 144,
      "outputs": []
    },
    {
      "cell_type": "markdown",
      "source": [
        "***\n",
        "## Kernel SVM\n",
        "***"
      ],
      "metadata": {
        "id": "xUrDyy9hHhsD"
      }
    },
    {
      "cell_type": "code",
      "source": [
        "def svm_dual_soft_to_qp_kernel(K, y, C=1):\n",
        "    n = K.shape[0]\n",
        "    assert (len(y) == n)\n",
        "        \n",
        "    # Dual formulation, soft margin\n",
        "    P = P = np.diag(y)@K@np.diag(y)\n",
        "    # As a regularization, we add epsilon * identity to P\n",
        "    eps = 1e-12\n",
        "    P += eps * np.eye(n)\n",
        "    q = - np.ones(n)\n",
        "    G = np.vstack([-np.eye(n), np.eye(n)])\n",
        "    h = np.hstack([np.zeros(n), C * np.ones(n)])\n",
        "    A = y[np.newaxis, :]\n",
        "    b = np.array([0.])\n",
        "    return P, q, G, h, A, b\n",
        "\n",
        "K = linear_kernel(X_train, X_train)\n",
        "alphas = solve_qp(*svm_dual_soft_to_qp_kernel(K, y_train, C=1.))"
      ],
      "metadata": {
        "id": "x9faQasXHpT4"
      },
      "execution_count": 145,
      "outputs": []
    },
    {
      "cell_type": "code",
      "source": [
        "y_train.shape,y.shape,X_train.shape"
      ],
      "metadata": {
        "colab": {
          "base_uri": "https://localhost:8080/"
        },
        "id": "2mNb1fuufQeW",
        "outputId": "ef6275ba-39cc-4b18-ca45-ee9089c3fa39"
      },
      "execution_count": 146,
      "outputs": [
        {
          "output_type": "execute_result",
          "data": {
            "text/plain": [
              "((1500,), (2000,), (1500, 64))"
            ]
          },
          "metadata": {},
          "execution_count": 146
        }
      ]
    },
    {
      "cell_type": "code",
      "source": [
        "class KernelSVM(KernelMethodBase):\n",
        "    '''\n",
        "    Kernel SVM Classification\n",
        "    \n",
        "    Methods\n",
        "    ----\n",
        "    fit\n",
        "    predict\n",
        "    '''\n",
        "    def __init__(self, C=0.1, **kwargs):\n",
        "        self.C = C\n",
        "        super().__init__(**kwargs)\n",
        "    \n",
        "    def fit_K(self, K, y, tol=1e-3):\n",
        "        # Solve dual problem\n",
        "        self.alpha = solve_qp(*svm_dual_soft_to_qp_kernel(K, y, C=self.C))\n",
        "        \n",
        "        # Compute support vectors and bias b\n",
        "        sv = np.logical_and((self.alpha > tol), (self.C - self.alpha > tol))\n",
        "        self.bias = y[sv] - K[sv].dot(self.alpha * y)\n",
        "        self.bias = self.bias.mean()\n",
        "\n",
        "        self.support_vector_indices = np.nonzero(sv)[0]\n",
        "        self.beta = self.alpha * y\n",
        "\n",
        "        return self\n",
        "        \n",
        "    def decision_function_K(self, K_x):\n",
        "        # print('K', K_x.shape, 'alpha', self.alpha.shape, 'bias', self.bias)\n",
        "        return K_x@(self.alpha * self.beta) +self.bias\n",
        "        # return K_x.dot(self.alpha * self.y_train) + self.bias\n",
        "\n",
        "    def predict(self, X):\n",
        "        # return np.sign(self.decision_function(X))\n",
        "        return np.where(self.decision_function(X)>0.5,1,-1)"
      ],
      "metadata": {
        "id": "yO3ZvtwJY7Qf"
      },
      "execution_count": 147,
      "outputs": []
    },
    {
      "cell_type": "code",
      "source": [
        "# candidates=np.arange(0.1,20,0.2)\n",
        "# l={}\n",
        "# for i in candidates:\n",
        "#   kernel = 'linear'\n",
        "#   sigma = 1.\n",
        "#   degree = 2\n",
        "#   C = i\n",
        "#   tol = 1e-3\n",
        "#   model = KernelSVM(C=C, kernel=kernel, sigma=sigma, degree=degree)\n",
        "#   y_pred = model.fit(X_train, y_train, tol=tol).predict(X_test)\n",
        "#   # print('Test error: {:.2%}'.format(error(y_pred, y_test)))\n",
        "#   # print('Accuracy: {:.2%}'.format(accuracy_score(y_pred, y_test)))\n",
        "#   l[i]=accuracy_score(y_pred, y_test)\n",
        "\n",
        "\n",
        "\n"
      ],
      "metadata": {
        "id": "gb1DKbodZKJA"
      },
      "execution_count": 148,
      "outputs": []
    },
    {
      "cell_type": "code",
      "source": [
        "kernel = 'linear'\n",
        "sigma = 1\n",
        "degree = 2\n",
        "C = 9.1\n",
        "tol = 1e-3\n",
        "model = KernelSVM(C=C, kernel=kernel, sigma=sigma, degree=degree)\n",
        "y_pred = model.fit(X_train, y_train, tol=tol).predict(X_test)\n",
        "print('Test error: {:.2%}'.format(error(y_pred, y_test)))\n",
        "print('Accuracy: {:.2%}'.format(accuracy_score(y_pred, y_test)))"
      ],
      "metadata": {
        "colab": {
          "base_uri": "https://localhost:8080/"
        },
        "id": "K8GH91HKbaBG",
        "outputId": "cf00af09-f60e-43cd-8f4f-08a028e3966d"
      },
      "execution_count": 149,
      "outputs": [
        {
          "output_type": "stream",
          "name": "stdout",
          "text": [
            "Test error: 6.00%\n",
            "Accuracy: 94.00%\n"
          ]
        }
      ]
    },
    {
      "cell_type": "code",
      "source": [
        "kernel = 'linear'\n",
        "sigma = 1\n",
        "degree = 2\n",
        "C = 1.5\n",
        "tol = 1e-3\n",
        "model = KernelSVM(C=C, kernel=kernel, sigma=sigma, degree=degree)\n",
        "y_pred = model.fit(x_train, y, tol=tol).predict(x_test)\n",
        "# print('Test error: {:.2%}'.format(error(y_pred, y_test)))\n",
        "# print('Accuracy: {:.2%}'.format(accuracy_score(y_pred, y_test)))"
      ],
      "metadata": {
        "id": "QWAOWmDxrzbB"
      },
      "execution_count": 150,
      "outputs": []
    },
    {
      "cell_type": "code",
      "source": [
        "prediction=np.where(y_pred==1,1,0)\n",
        "y_save = np.vstack([1 + np.arange(len(prediction)), prediction]).T\n",
        "np.savetxt('Yte.csv', y_save,\n",
        "           delimiter=',', header='Id,Covid', fmt='%i', comments='')"
      ],
      "metadata": {
        "id": "CHau6n6Vr9Jz"
      },
      "execution_count": 151,
      "outputs": []
    },
    {
      "cell_type": "code",
      "source": [
        "# prediction"
      ],
      "metadata": {
        "id": "ZeXoN1DKsuTJ"
      },
      "execution_count": 152,
      "outputs": []
    }
  ],
  "metadata": {
    "kernelspec": {
      "display_name": "Python 3 (ipykernel)",
      "language": "python",
      "name": "python3"
    },
    "language_info": {
      "codemirror_mode": {
        "name": "ipython",
        "version": 3
      },
      "file_extension": ".py",
      "mimetype": "text/x-python",
      "name": "python",
      "nbconvert_exporter": "python",
      "pygments_lexer": "ipython3",
      "version": "3.7.6"
    },
    "colab": {
      "name": "Data Challenge-Scratch",
      "provenance": [],
      "collapsed_sections": [],
      "include_colab_link": true
    }
  },
  "nbformat": 4,
  "nbformat_minor": 0
}